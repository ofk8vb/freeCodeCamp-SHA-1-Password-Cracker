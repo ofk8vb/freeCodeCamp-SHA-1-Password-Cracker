{
 "cells": [
  {
   "cell_type": "markdown",
   "metadata": {},
   "source": [
    "# Assignment\n",
    "Passwords should never be stored in plain text. They should be stored as hashes, just in case the password list is discovered. However, not all hashes are created equal.\n",
    "\n",
    "For this project you will learn about the importance of good security by creating a password cracker to figure out passwords that were hashed using SHA-1.\n",
    "\n",
    "Create a function that takes in a SHA-1 hash of a password and returns the password if it is one of the top 10,000 passwords used. If the SHA-1 hash is NOT of a password in the database, return \"PASSWORD NOT IN DATABASE\".\n",
    "\n",
    "The function should hash each password from top-10000-passwords.txt and compare it to the hash passed into the function.\n",
    "\n",
    "The function should take an optional second argument named use_salts. If set to true, each salt string from the file known-salts.txt should be appended AND prepended to each password from top-10000-passwords.txt before hashing and before comparing it to the hash passed into the function.\n",
    "\n",
    "Here are some hashed passwords to test the function with:\n",
    "\n",
    "b305921a3723cd5d70a375cd21a61e60aabb84ec should return \"sammy123\"\n",
    "c7ab388a5ebefbf4d550652f1eb4d833e5316e3e should return \"abacab\"\n",
    "5baa61e4c9b93f3f0682250b6cf8331b7ee68fd8 should return \"password\"\n",
    "Here are some hashed passwords to test the function with when use_salts is set to True:\n",
    "\n",
    "53d8b3dc9d39f0184144674e310185e41a87ffd5 should return \"superman\"\n",
    "da5a4e8cf89539e66097acd2f8af128acae2f8ae should return \"q1w2e3r4t5\"\n",
    "ea3f62d498e3b98557f9f9cd0d905028b3b019e1 should return \"bubbles1\""
   ]
  },
  {
   "cell_type": "code",
   "execution_count": 37,
   "metadata": {},
   "outputs": [],
   "source": [
    "import hashlib\n",
    "\n",
    "# we read the top-10000-password txt file split by new line, and turn it into a list with each element representing a single line\n",
    "a = open(\"top-10000-passwords.txt\")\n",
    "file_contents = a.read()\n",
    "top_10000_passwords = file_contents.splitlines()\n",
    "\n",
    "# we ready the known-salts.txt file split by new line, and turn it into a list with each element representing a single line\n",
    "b = open('known-salts.txt')\n",
    "file_contents_2 = b.read()\n",
    "known_salts = file_contents_2.splitlines()\n",
    "\n",
    "def use_salts_helper(password):\n",
    "    \"\"\"\n",
    "    helper function for crack_sha1_hash function that will be used if use_salts option is set to True.\n",
    "    This function will add each salt to the beginning and end of the each password in top-10000-passwords \n",
    "    before doing the hash comparing\n",
    "    \n",
    "    returns:\n",
    "    will be returning a list that will contain each known_salts added to the begining and the end of the password\n",
    "    i.e. returned list will contain number of elements matching to the number of elements in known_salts\n",
    "    \"\"\"\n",
    "    salted_password_list  = []\n",
    "    \n",
    "    for salt in known_salts:\n",
    "        salted_password_list.append(str(salt)+str(password))\n",
    "        salted_password_list.append(str(password)+str(salt))\n",
    "        \n",
    "    return salted_password_list\n",
    "\n",
    "def crack_sha1_hash(hash,use_salts=False):\n",
    "    \"\"\"\n",
    "    function that takes a hash, and checks if it is in the list of top 10,000 passwords used.\n",
    "    If the password is in the top 10,000 most used, it returns it. if not returns 'PASSWORD NOT IN DATABASE'\n",
    "    \n",
    "    if use_salts is set to True, each salt string from the file known-salts.txt should be \n",
    "    appended AND prepended to each password from top-10000-passwords.txt \n",
    "    before hashing and before comparing it to the hash passed into the function.\n",
    "    \n",
    "    returns:\n",
    "    either the found password, or a 'not found message'\n",
    "    \"\"\"\n",
    "    \n",
    "    # result will remain the same if no match is found\n",
    "    result = 'PASSWORD NOT IN DATABASE'\n",
    "    \n",
    "    if use_salts == False:\n",
    "        # convert each password in top_10000-passwords.txt into hash 1 by 1, and compare it to the hash passed into the function.\n",
    "        for password in top_10000_passwords:\n",
    "            if hash == hashlib.sha1(str(password).encode('utf-8')).hexdigest():\n",
    "                result = password\n",
    "    else:\n",
    "        for password in top_10000_passwords:\n",
    "            temp_salted_list = use_salts_helper(password)\n",
    "            for salted_password in temp_salted_list:\n",
    "                if hash == hashlib.sha1(str(salted_password).encode('utf8')).hexdigest():\n",
    "                    result = password\n",
    "        \n",
    "    return result\n",
    "    "
   ]
  },
  {
   "cell_type": "code",
   "execution_count": 18,
   "metadata": {},
   "outputs": [
    {
     "data": {
      "text/plain": [
       "'sammy123'"
      ]
     },
     "execution_count": 18,
     "metadata": {},
     "output_type": "execute_result"
    }
   ],
   "source": [
    "crack_sha1_hash('b305921a3723cd5d70a375cd21a61e60aabb84ec')"
   ]
  },
  {
   "cell_type": "code",
   "execution_count": 19,
   "metadata": {},
   "outputs": [
    {
     "data": {
      "text/plain": [
       "'abacab'"
      ]
     },
     "execution_count": 19,
     "metadata": {},
     "output_type": "execute_result"
    }
   ],
   "source": [
    "crack_sha1_hash('c7ab388a5ebefbf4d550652f1eb4d833e5316e3e')"
   ]
  },
  {
   "cell_type": "code",
   "execution_count": 38,
   "metadata": {},
   "outputs": [
    {
     "data": {
      "text/plain": [
       "'superman'"
      ]
     },
     "execution_count": 38,
     "metadata": {},
     "output_type": "execute_result"
    }
   ],
   "source": [
    "crack_sha1_hash('53d8b3dc9d39f0184144674e310185e41a87ffd5',use_salts = True)"
   ]
  },
  {
   "cell_type": "code",
   "execution_count": 35,
   "metadata": {},
   "outputs": [
    {
     "name": "stdout",
     "output_type": "stream",
     "text": [
      "['HAsnoiqHEhsupermanHAsnoiqHEh', 'GXfLnpR9qasupermanGXfLnpR9qa', '6aRWZ6PnuGsuperman6aRWZ6PnuG', '3LKYsaopn6superman3LKYsaopn6', 'GyioZ5g8AUsupermanGyioZ5g8AU', '74dvedigLcsuperman74dvedigLc', '4D6JD9unjrsuperman4D6JD9unjr', '5mcqQ2GowZsuperman5mcqQ2GowZ', 'FcbSSjYY3HsupermanFcbSSjYY3H', 'EN3MEcZQSosupermanEN3MEcZQSo', 'Pis5YoFztMsupermanPis5YoFztM', 'awv4t5tETnsupermanawv4t5tETn', 'DcBaeBEAQTsupermanDcBaeBEAQT', 'Bc6H9T8pqEsupermanBc6H9T8pqE', '3YHCu7M2r7superman3YHCu7M2r7', 'J5khbwA4etsupermanJ5khbwA4et', '3bQn3mmFWysuperman3bQn3mmFWy', '8PBin3nRbzsuperman8PBin3nRbz', 'KC9oqtVmyJsupermanKC9oqtVmyJ', '9dGCVVqyKesuperman9dGCVVqyKe']\n"
     ]
    }
   ],
   "source": [
    "salted_password_list = []\n",
    "hashed_salted_password_list = []\n",
    "password = 'superman'\n",
    "\n",
    "for salt in known_salts:\n",
    "    salted_password_list.append(str(salt)+str(password)+str(salt))\n",
    "  \n",
    "\n",
    "for salted_password in salted_password_list:\n",
    "      hashed_salted_password_list.append(hashlib.sha1(str(salted_password).encode('utf8')).hexdigest())\n",
    "    \n",
    "print(salted_password_list)"
   ]
  },
  {
   "cell_type": "code",
   "execution_count": 36,
   "metadata": {},
   "outputs": [
    {
     "name": "stdout",
     "output_type": "stream",
     "text": [
      "['1f43fe0bc0698f60a29c057060e94dc12543bc58', 'ba07328df76563eb9d1e0af268180dc78c75fd9b', '40de9b431f789a3279785fbc79d3382613ad2450', '06c2b1331eb60559e74687acba6ac031efd9cf48', '8ff8d4a40198a49f5b90259a0db43483f9e60095', '8338ba13f75c50e8117232b61f227ebac20659f9', 'e5a6946f4ed4f1f5a87fbcef5b4b60adc6a66211', '9151c80f763ce13c62b65a1a056531e3043a85fc', '65bdbb36ad2f8bd01d60be6302c938177962f92c', '9cfc97d9ff53632114dd5b558c65dc74c8c2487d', '3bc32e1092c095f00f11034569aeaca2ed4e43b1', '95007a6801113850c040eec2f8220a5cb3dbdc07', '83b426ef14236881278ad897576b60568cf2416a', '04bd10e288838d92fb1a05c11841a6ce0d40b2cb', '8a3068918278842348d836872f98f7110bff4113', 'ca67d97b2e825f7f259dc920bdc8cbdabeb8a964', '0abdb98bb2a7cb6f74ed338f58aa863bef816f46', 'afd11e5bbcd3285b231be2bee63278c6b92e4ec0', '8a8ee86ffb88ae171e6eeb0461643d0f2d386ee5', 'cabd3202661a89b6fb4daa806c942113e44db847']\n"
     ]
    }
   ],
   "source": [
    "print(hashed_salted_password_list)"
   ]
  },
  {
   "cell_type": "code",
   "execution_count": null,
   "metadata": {},
   "outputs": [],
   "source": []
  }
 ],
 "metadata": {
  "kernelspec": {
   "display_name": "Python 3",
   "language": "python",
   "name": "python3"
  },
  "language_info": {
   "codemirror_mode": {
    "name": "ipython",
    "version": 3
   },
   "file_extension": ".py",
   "mimetype": "text/x-python",
   "name": "python",
   "nbconvert_exporter": "python",
   "pygments_lexer": "ipython3",
   "version": "3.8.5"
  }
 },
 "nbformat": 4,
 "nbformat_minor": 4
}
